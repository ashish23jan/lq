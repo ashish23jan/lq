{
 "cells": [
  {
   "cell_type": "markdown",
   "id": "c6ec7137",
   "metadata": {},
   "source": [
    "## Iterative Statements"
   ]
  },
  {
   "cell_type": "markdown",
   "id": "5b8efcd7",
   "metadata": {},
   "source": [
    "If we want to execute a group of statements multiple times then we should go for \n",
    "\n",
    "Iterative statements.\n",
    "\n",
    "Python supports 2 types of iterative statements.\n",
    "\n",
    "1. for loop\n",
    "\n",
    "2. while loop"
   ]
  },
  {
   "cell_type": "markdown",
   "id": "3e3a71b7",
   "metadata": {},
   "source": [
    "#### 1) for loop:\n",
    "\n",
    "If we want to execute some action for every element present in some sequence(it may be \n",
    "\n",
    "string or collection)then we should go for for loop."
   ]
  },
  {
   "cell_type": "markdown",
   "id": "3fae2609",
   "metadata": {},
   "source": [
    "Syntax:\n",
    "\n",
    "###### for x in sequence :\n",
    "###### body\n",
    "\n",
    "where sequence can be string or any collection.\n",
    "\n",
    "Body will be executed for every element present in the sequence."
   ]
  },
  {
   "cell_type": "markdown",
   "id": "c616bb63",
   "metadata": {},
   "source": [
    "###### Eg-1To print characters present in the given string"
   ]
  },
  {
   "cell_type": "code",
   "execution_count": 1,
   "id": "0cdaae4c",
   "metadata": {},
   "outputs": [],
   "source": [
    "s= \"I love my India\""
   ]
  },
  {
   "cell_type": "markdown",
   "id": "39fbfa37",
   "metadata": {},
   "source": [
    "###### Eg 2: To print characters present in string index wise:"
   ]
  },
  {
   "cell_type": "code",
   "execution_count": null,
   "id": "e41745e2",
   "metadata": {},
   "outputs": [],
   "source": []
  },
  {
   "cell_type": "markdown",
   "id": "77076978",
   "metadata": {},
   "source": [
    "###### Eg 3: To print Hello 10 times"
   ]
  },
  {
   "cell_type": "code",
   "execution_count": null,
   "id": "04be9fd4",
   "metadata": {},
   "outputs": [],
   "source": []
  },
  {
   "cell_type": "markdown",
   "id": "068f8a03",
   "metadata": {},
   "source": [
    "###### Eg 4: To display numbers from 0 to 10"
   ]
  },
  {
   "cell_type": "code",
   "execution_count": null,
   "id": "fc1554a7",
   "metadata": {},
   "outputs": [],
   "source": []
  },
  {
   "cell_type": "markdown",
   "id": "e20fd9c2",
   "metadata": {},
   "source": [
    "###### Eg 5: To display odd numbers from 0 to 20"
   ]
  },
  {
   "cell_type": "code",
   "execution_count": null,
   "id": "f24e57ef",
   "metadata": {},
   "outputs": [],
   "source": []
  },
  {
   "cell_type": "markdown",
   "id": "d95e2341",
   "metadata": {},
   "source": [
    "###### Eg 6: To display numbers from 10 to 1 in descending order"
   ]
  },
  {
   "cell_type": "code",
   "execution_count": null,
   "id": "c18319ce",
   "metadata": {},
   "outputs": [],
   "source": []
  },
  {
   "cell_type": "markdown",
   "id": "b0346d55",
   "metadata": {},
   "source": [
    "###### Eg 7: To print sum of numbers present inside list"
   ]
  },
  {
   "cell_type": "code",
   "execution_count": null,
   "id": "f1c1dab8",
   "metadata": {},
   "outputs": [],
   "source": []
  },
  {
   "cell_type": "markdown",
   "id": "f747743b",
   "metadata": {},
   "source": [
    "### 2) while loop:\n",
    "###### If we want to execute a group of statements iteratively until some condition false,then we \n",
    "###### should go for while loop.\n",
    "\n",
    "Syntax:\n",
    "\n",
    "while condition :\n",
    "\n",
    "body\n"
   ]
  },
  {
   "cell_type": "markdown",
   "id": "d5f3afcf",
   "metadata": {},
   "source": [
    "###### Eg: To print numbers from 1 to 10 by using while loop"
   ]
  },
  {
   "cell_type": "code",
   "execution_count": null,
   "id": "98cafd59",
   "metadata": {},
   "outputs": [],
   "source": []
  },
  {
   "cell_type": "markdown",
   "id": "26afc18a",
   "metadata": {},
   "source": [
    "###### Eg: To display the sum of first n numbers"
   ]
  },
  {
   "cell_type": "code",
   "execution_count": null,
   "id": "d0799c5a",
   "metadata": {},
   "outputs": [],
   "source": []
  },
  {
   "cell_type": "markdown",
   "id": "0f0a5892",
   "metadata": {},
   "source": [
    "###### Eg: write a program to prompt user to enter some name until entering Ayushi"
   ]
  },
  {
   "cell_type": "code",
   "execution_count": null,
   "id": "2e29cb75",
   "metadata": {},
   "outputs": [],
   "source": []
  },
  {
   "cell_type": "markdown",
   "id": "e4358115",
   "metadata": {},
   "source": [
    "### Infinite Loops:"
   ]
  },
  {
   "cell_type": "code",
   "execution_count": null,
   "id": "227d8bf6",
   "metadata": {},
   "outputs": [],
   "source": []
  },
  {
   "cell_type": "markdown",
   "id": "1ac072e2",
   "metadata": {},
   "source": [
    "### Nested Loops:\n",
    "Sometimes we can take a loop inside another loop,which are also known as nested loops."
   ]
  },
  {
   "cell_type": "code",
   "execution_count": null,
   "id": "3fef5326",
   "metadata": {},
   "outputs": [],
   "source": []
  },
  {
   "cell_type": "code",
   "execution_count": null,
   "id": "9ebea837",
   "metadata": {},
   "outputs": [],
   "source": []
  },
  {
   "cell_type": "code",
   "execution_count": null,
   "id": "a512e8cc",
   "metadata": {},
   "outputs": [],
   "source": []
  }
 ],
 "metadata": {
  "kernelspec": {
   "display_name": "Python 3",
   "language": "python",
   "name": "python3"
  },
  "language_info": {
   "codemirror_mode": {
    "name": "ipython",
    "version": 3
   },
   "file_extension": ".py",
   "mimetype": "text/x-python",
   "name": "python",
   "nbconvert_exporter": "python",
   "pygments_lexer": "ipython3",
   "version": "3.8.8"
  }
 },
 "nbformat": 4,
 "nbformat_minor": 5
}
